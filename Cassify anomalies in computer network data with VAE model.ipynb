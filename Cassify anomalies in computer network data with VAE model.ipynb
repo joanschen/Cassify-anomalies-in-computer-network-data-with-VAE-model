{
  "nbformat": 4,
  "nbformat_minor": 0,
  "metadata": {
    "colab": {
      "name": "Assignment_2_Shuo_Chen.ipynb",
      "provenance": [],
      "collapsed_sections": []
    },
    "kernelspec": {
      "name": "python3",
      "display_name": "Python 3"
    },
    "language_info": {
      "name": "python"
    },
    "accelerator": "GPU"
  },
  "cells": [
    {
      "cell_type": "code",
      "source": [
        "# Shuo Chen\n",
        "# 301180465"
      ],
      "metadata": {
        "id": "dCO_nGGLM9BB"
      },
      "execution_count": null,
      "outputs": []
    },
    {
      "cell_type": "code",
      "execution_count": 1,
      "metadata": {
        "colab": {
          "base_uri": "https://localhost:8080/"
        },
        "id": "JA_6v617MkRf",
        "outputId": "5d1fc8b2-82ee-413b-a092-246553b6de55"
      },
      "outputs": [
        {
          "output_type": "stream",
          "name": "stderr",
          "text": [
            "/usr/local/lib/python3.7/dist-packages/tensorflow/python/framework/dtypes.py:516: FutureWarning: Passing (type, 1) or '1type' as a synonym of type is deprecated; in a future version of numpy, it will be understood as (type, (1,)) / '(1,)type'.\n",
            "  _np_qint8 = np.dtype([(\"qint8\", np.int8, 1)])\n",
            "/usr/local/lib/python3.7/dist-packages/tensorflow/python/framework/dtypes.py:517: FutureWarning: Passing (type, 1) or '1type' as a synonym of type is deprecated; in a future version of numpy, it will be understood as (type, (1,)) / '(1,)type'.\n",
            "  _np_quint8 = np.dtype([(\"quint8\", np.uint8, 1)])\n",
            "/usr/local/lib/python3.7/dist-packages/tensorflow/python/framework/dtypes.py:518: FutureWarning: Passing (type, 1) or '1type' as a synonym of type is deprecated; in a future version of numpy, it will be understood as (type, (1,)) / '(1,)type'.\n",
            "  _np_qint16 = np.dtype([(\"qint16\", np.int16, 1)])\n",
            "/usr/local/lib/python3.7/dist-packages/tensorflow/python/framework/dtypes.py:519: FutureWarning: Passing (type, 1) or '1type' as a synonym of type is deprecated; in a future version of numpy, it will be understood as (type, (1,)) / '(1,)type'.\n",
            "  _np_quint16 = np.dtype([(\"quint16\", np.uint16, 1)])\n",
            "/usr/local/lib/python3.7/dist-packages/tensorflow/python/framework/dtypes.py:520: FutureWarning: Passing (type, 1) or '1type' as a synonym of type is deprecated; in a future version of numpy, it will be understood as (type, (1,)) / '(1,)type'.\n",
            "  _np_qint32 = np.dtype([(\"qint32\", np.int32, 1)])\n",
            "/usr/local/lib/python3.7/dist-packages/tensorflow/python/framework/dtypes.py:525: FutureWarning: Passing (type, 1) or '1type' as a synonym of type is deprecated; in a future version of numpy, it will be understood as (type, (1,)) / '(1,)type'.\n",
            "  np_resource = np.dtype([(\"resource\", np.ubyte, 1)])\n",
            "/usr/local/lib/python3.7/dist-packages/tensorboard/compat/tensorflow_stub/dtypes.py:541: FutureWarning: Passing (type, 1) or '1type' as a synonym of type is deprecated; in a future version of numpy, it will be understood as (type, (1,)) / '(1,)type'.\n",
            "  _np_qint8 = np.dtype([(\"qint8\", np.int8, 1)])\n",
            "/usr/local/lib/python3.7/dist-packages/tensorboard/compat/tensorflow_stub/dtypes.py:542: FutureWarning: Passing (type, 1) or '1type' as a synonym of type is deprecated; in a future version of numpy, it will be understood as (type, (1,)) / '(1,)type'.\n",
            "  _np_quint8 = np.dtype([(\"quint8\", np.uint8, 1)])\n",
            "/usr/local/lib/python3.7/dist-packages/tensorboard/compat/tensorflow_stub/dtypes.py:543: FutureWarning: Passing (type, 1) or '1type' as a synonym of type is deprecated; in a future version of numpy, it will be understood as (type, (1,)) / '(1,)type'.\n",
            "  _np_qint16 = np.dtype([(\"qint16\", np.int16, 1)])\n",
            "/usr/local/lib/python3.7/dist-packages/tensorboard/compat/tensorflow_stub/dtypes.py:544: FutureWarning: Passing (type, 1) or '1type' as a synonym of type is deprecated; in a future version of numpy, it will be understood as (type, (1,)) / '(1,)type'.\n",
            "  _np_quint16 = np.dtype([(\"quint16\", np.uint16, 1)])\n",
            "/usr/local/lib/python3.7/dist-packages/tensorboard/compat/tensorflow_stub/dtypes.py:545: FutureWarning: Passing (type, 1) or '1type' as a synonym of type is deprecated; in a future version of numpy, it will be understood as (type, (1,)) / '(1,)type'.\n",
            "  _np_qint32 = np.dtype([(\"qint32\", np.int32, 1)])\n",
            "/usr/local/lib/python3.7/dist-packages/tensorboard/compat/tensorflow_stub/dtypes.py:550: FutureWarning: Passing (type, 1) or '1type' as a synonym of type is deprecated; in a future version of numpy, it will be understood as (type, (1,)) / '(1,)type'.\n",
            "  np_resource = np.dtype([(\"resource\", np.ubyte, 1)])\n"
          ]
        }
      ],
      "source": [
        "import numpy as np \n",
        "import pandas as pd \n",
        "import matplotlib.pyplot as plt\n",
        "import matplotlib as mpl\n",
        "from scipy.stats import norm\n",
        "import tensorflow as tf\n",
        "from tensorflow import keras\n",
        "from numpy.random import seed\n",
        "from sklearn.model_selection import train_test_split\n",
        "from sklearn.preprocessing import StandardScaler\n",
        "from sklearn import metrics\n",
        "import seaborn as sns\n",
        "from sklearn.metrics import (confusion_matrix, precision_recall_curve, auc,roc_curve, recall_score, classification_report, f1_score,precision_recall_fscore_support)\n",
        "import h5py\n",
        "seed(1)\n",
        "import warnings\n",
        "warnings.filterwarnings('ignore')"
      ]
    },
    {
      "cell_type": "code",
      "source": [
        "!pip install tensorflow==1.14.0\n",
        "!pip install keras==2.2.4"
      ],
      "metadata": {
        "id": "RpOCESzDMuzI",
        "colab": {
          "base_uri": "https://localhost:8080/"
        },
        "outputId": "d7ea379e-05fb-4a5e-c870-6dde1b12a698"
      },
      "execution_count": 2,
      "outputs": [
        {
          "output_type": "stream",
          "name": "stdout",
          "text": [
            "Requirement already satisfied: tensorflow==1.14.0 in /usr/local/lib/python3.7/dist-packages (1.14.0)\n",
            "Requirement already satisfied: numpy<2.0,>=1.14.5 in /usr/local/lib/python3.7/dist-packages (from tensorflow==1.14.0) (1.21.5)\n",
            "Requirement already satisfied: six>=1.10.0 in /usr/local/lib/python3.7/dist-packages (from tensorflow==1.14.0) (1.15.0)\n",
            "Requirement already satisfied: wrapt>=1.11.1 in /usr/local/lib/python3.7/dist-packages (from tensorflow==1.14.0) (1.14.0)\n",
            "Requirement already satisfied: astor>=0.6.0 in /usr/local/lib/python3.7/dist-packages (from tensorflow==1.14.0) (0.8.1)\n",
            "Requirement already satisfied: tensorboard<1.15.0,>=1.14.0 in /usr/local/lib/python3.7/dist-packages (from tensorflow==1.14.0) (1.14.0)\n",
            "Requirement already satisfied: grpcio>=1.8.6 in /usr/local/lib/python3.7/dist-packages (from tensorflow==1.14.0) (1.44.0)\n",
            "Requirement already satisfied: absl-py>=0.7.0 in /usr/local/lib/python3.7/dist-packages (from tensorflow==1.14.0) (1.0.0)\n",
            "Requirement already satisfied: google-pasta>=0.1.6 in /usr/local/lib/python3.7/dist-packages (from tensorflow==1.14.0) (0.2.0)\n",
            "Requirement already satisfied: protobuf>=3.6.1 in /usr/local/lib/python3.7/dist-packages (from tensorflow==1.14.0) (3.17.3)\n",
            "Requirement already satisfied: keras-preprocessing>=1.0.5 in /usr/local/lib/python3.7/dist-packages (from tensorflow==1.14.0) (1.1.2)\n",
            "Requirement already satisfied: gast>=0.2.0 in /usr/local/lib/python3.7/dist-packages (from tensorflow==1.14.0) (0.5.3)\n",
            "Requirement already satisfied: wheel>=0.26 in /usr/local/lib/python3.7/dist-packages (from tensorflow==1.14.0) (0.37.1)\n",
            "Requirement already satisfied: keras-applications>=1.0.6 in /usr/local/lib/python3.7/dist-packages (from tensorflow==1.14.0) (1.0.8)\n",
            "Requirement already satisfied: tensorflow-estimator<1.15.0rc0,>=1.14.0rc0 in /usr/local/lib/python3.7/dist-packages (from tensorflow==1.14.0) (1.14.0)\n",
            "Requirement already satisfied: termcolor>=1.1.0 in /usr/local/lib/python3.7/dist-packages (from tensorflow==1.14.0) (1.1.0)\n",
            "Requirement already satisfied: h5py in /usr/local/lib/python3.7/dist-packages (from keras-applications>=1.0.6->tensorflow==1.14.0) (3.1.0)\n",
            "Requirement already satisfied: werkzeug>=0.11.15 in /usr/local/lib/python3.7/dist-packages (from tensorboard<1.15.0,>=1.14.0->tensorflow==1.14.0) (1.0.1)\n",
            "Requirement already satisfied: markdown>=2.6.8 in /usr/local/lib/python3.7/dist-packages (from tensorboard<1.15.0,>=1.14.0->tensorflow==1.14.0) (3.3.6)\n",
            "Requirement already satisfied: setuptools>=41.0.0 in /usr/local/lib/python3.7/dist-packages (from tensorboard<1.15.0,>=1.14.0->tensorflow==1.14.0) (57.4.0)\n",
            "Requirement already satisfied: importlib-metadata>=4.4 in /usr/local/lib/python3.7/dist-packages (from markdown>=2.6.8->tensorboard<1.15.0,>=1.14.0->tensorflow==1.14.0) (4.11.3)\n",
            "Requirement already satisfied: typing-extensions>=3.6.4 in /usr/local/lib/python3.7/dist-packages (from importlib-metadata>=4.4->markdown>=2.6.8->tensorboard<1.15.0,>=1.14.0->tensorflow==1.14.0) (3.10.0.2)\n",
            "Requirement already satisfied: zipp>=0.5 in /usr/local/lib/python3.7/dist-packages (from importlib-metadata>=4.4->markdown>=2.6.8->tensorboard<1.15.0,>=1.14.0->tensorflow==1.14.0) (3.7.0)\n",
            "Requirement already satisfied: cached-property in /usr/local/lib/python3.7/dist-packages (from h5py->keras-applications>=1.0.6->tensorflow==1.14.0) (1.5.2)\n",
            "Requirement already satisfied: keras==2.2.4 in /usr/local/lib/python3.7/dist-packages (2.2.4)\n",
            "Requirement already satisfied: keras-preprocessing>=1.0.5 in /usr/local/lib/python3.7/dist-packages (from keras==2.2.4) (1.1.2)\n",
            "Requirement already satisfied: h5py in /usr/local/lib/python3.7/dist-packages (from keras==2.2.4) (3.1.0)\n",
            "Requirement already satisfied: numpy>=1.9.1 in /usr/local/lib/python3.7/dist-packages (from keras==2.2.4) (1.21.5)\n",
            "Requirement already satisfied: keras-applications>=1.0.6 in /usr/local/lib/python3.7/dist-packages (from keras==2.2.4) (1.0.8)\n",
            "Requirement already satisfied: six>=1.9.0 in /usr/local/lib/python3.7/dist-packages (from keras==2.2.4) (1.15.0)\n",
            "Requirement already satisfied: pyyaml in /usr/local/lib/python3.7/dist-packages (from keras==2.2.4) (3.13)\n",
            "Requirement already satisfied: scipy>=0.14 in /usr/local/lib/python3.7/dist-packages (from keras==2.2.4) (1.4.1)\n",
            "Requirement already satisfied: cached-property in /usr/local/lib/python3.7/dist-packages (from h5py->keras==2.2.4) (1.5.2)\n"
          ]
        }
      ]
    },
    {
      "cell_type": "code",
      "source": [
        "print('TensorFlow version: ', tf.__version__)\n",
        "print('Keras version: ', keras.__version__)"
      ],
      "metadata": {
        "colab": {
          "base_uri": "https://localhost:8080/"
        },
        "id": "XTc5i84tDx0L",
        "outputId": "5129a061-3a85-49ad-8fcc-639479060fb4"
      },
      "execution_count": 130,
      "outputs": [
        {
          "output_type": "stream",
          "name": "stdout",
          "text": [
            "TensorFlow version:  1.14.0\n",
            "Keras version:  2.2.4-tf\n"
          ]
        }
      ]
    },
    {
      "cell_type": "code",
      "source": [
        "from google.colab import files\n",
        "uploaded = files.upload()"
      ],
      "metadata": {
        "colab": {
          "resources": {
            "http://localhost:8080/nbextensions/google.colab/files.js": {
              "data": "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",
              "ok": true,
              "headers": [
                [
                  "content-type",
                  "application/javascript"
                ]
              ],
              "status": 200,
              "status_text": ""
            }
          },
          "base_uri": "https://localhost:8080/",
          "height": 73
        },
        "id": "lWMOEfASMuxd",
        "outputId": "679bd794-fb86-41d6-8f7b-ed7f2eb4d0f5"
      },
      "execution_count": null,
      "outputs": [
        {
          "output_type": "display_data",
          "data": {
            "text/plain": [
              "<IPython.core.display.HTML object>"
            ],
            "text/html": [
              "\n",
              "     <input type=\"file\" id=\"files-2e9a55a9-27b7-49f3-b667-cbb2ed419d63\" name=\"files[]\" multiple disabled\n",
              "        style=\"border:none\" />\n",
              "     <output id=\"result-2e9a55a9-27b7-49f3-b667-cbb2ed419d63\">\n",
              "      Upload widget is only available when the cell has been executed in the\n",
              "      current browser session. Please rerun this cell to enable.\n",
              "      </output>\n",
              "      <script src=\"/nbextensions/google.colab/files.js\"></script> "
            ]
          },
          "metadata": {}
        },
        {
          "output_type": "stream",
          "name": "stdout",
          "text": [
            "Saving network_attack_data.csv to network_attack_data.csv\n"
          ]
        }
      ]
    },
    {
      "cell_type": "code",
      "source": [
        "# read dataset\n",
        "data = pd.read_csv('network_attack_data.csv') \n",
        "data.head()"
      ],
      "metadata": {
        "colab": {
          "base_uri": "https://localhost:8080/",
          "height": 235
        },
        "id": "vkRMte06Muu7",
        "outputId": "0a950777-c726-4e5b-9022-049e5c64dc4c"
      },
      "execution_count": 131,
      "outputs": [
        {
          "output_type": "execute_result",
          "data": {
            "text/plain": [
              "         F_1  F_2  F_3  F_4  F_5  F_6  F_7     F_8         F_9  F_10  ...  \\\n",
              "0  109998919    4    3  525  0.0  520    0  131.25  259.177385     0  ...   \n",
              "1  109993343    4    3  531  0.0  520    0  132.75  258.218738     0  ...   \n",
              "2  109988359    4    3  535  0.0  520    0  133.75  257.597069     0  ...   \n",
              "3  109982960    4    3  530  0.0  520    0  132.50  258.376341     0  ...   \n",
              "4  109977744    4    3  530  0.0  520    0  132.50  258.376341     0  ...   \n",
              "\n",
              "   F_68    F_69  F_70    F_71    F_72         F_73  F_74         F_75  \\\n",
              "0    32  5735.0   0.0  5735.0  5735.0  110000000.0   0.0  110000000.0   \n",
              "1    32  5437.0   0.0  5437.0  5437.0  110000000.0   0.0  110000000.0   \n",
              "2    32  5505.0   0.0  5505.0  5505.0  110000000.0   0.0  110000000.0   \n",
              "3    32  5303.0   0.0  5303.0  5303.0  110000000.0   0.0  110000000.0   \n",
              "4    32  5356.0   0.0  5356.0  5356.0  110000000.0   0.0  110000000.0   \n",
              "\n",
              "          F_76  Label  \n",
              "0  110000000.0      1  \n",
              "1  110000000.0      1  \n",
              "2  110000000.0      1  \n",
              "3  110000000.0      1  \n",
              "4  110000000.0      1  \n",
              "\n",
              "[5 rows x 77 columns]"
            ],
            "text/html": [
              "\n",
              "  <div id=\"df-09c3a63f-169a-465d-a975-f2ea7af507d2\">\n",
              "    <div class=\"colab-df-container\">\n",
              "      <div>\n",
              "<style scoped>\n",
              "    .dataframe tbody tr th:only-of-type {\n",
              "        vertical-align: middle;\n",
              "    }\n",
              "\n",
              "    .dataframe tbody tr th {\n",
              "        vertical-align: top;\n",
              "    }\n",
              "\n",
              "    .dataframe thead th {\n",
              "        text-align: right;\n",
              "    }\n",
              "</style>\n",
              "<table border=\"1\" class=\"dataframe\">\n",
              "  <thead>\n",
              "    <tr style=\"text-align: right;\">\n",
              "      <th></th>\n",
              "      <th>F_1</th>\n",
              "      <th>F_2</th>\n",
              "      <th>F_3</th>\n",
              "      <th>F_4</th>\n",
              "      <th>F_5</th>\n",
              "      <th>F_6</th>\n",
              "      <th>F_7</th>\n",
              "      <th>F_8</th>\n",
              "      <th>F_9</th>\n",
              "      <th>F_10</th>\n",
              "      <th>...</th>\n",
              "      <th>F_68</th>\n",
              "      <th>F_69</th>\n",
              "      <th>F_70</th>\n",
              "      <th>F_71</th>\n",
              "      <th>F_72</th>\n",
              "      <th>F_73</th>\n",
              "      <th>F_74</th>\n",
              "      <th>F_75</th>\n",
              "      <th>F_76</th>\n",
              "      <th>Label</th>\n",
              "    </tr>\n",
              "  </thead>\n",
              "  <tbody>\n",
              "    <tr>\n",
              "      <th>0</th>\n",
              "      <td>109998919</td>\n",
              "      <td>4</td>\n",
              "      <td>3</td>\n",
              "      <td>525</td>\n",
              "      <td>0.0</td>\n",
              "      <td>520</td>\n",
              "      <td>0</td>\n",
              "      <td>131.25</td>\n",
              "      <td>259.177385</td>\n",
              "      <td>0</td>\n",
              "      <td>...</td>\n",
              "      <td>32</td>\n",
              "      <td>5735.0</td>\n",
              "      <td>0.0</td>\n",
              "      <td>5735.0</td>\n",
              "      <td>5735.0</td>\n",
              "      <td>110000000.0</td>\n",
              "      <td>0.0</td>\n",
              "      <td>110000000.0</td>\n",
              "      <td>110000000.0</td>\n",
              "      <td>1</td>\n",
              "    </tr>\n",
              "    <tr>\n",
              "      <th>1</th>\n",
              "      <td>109993343</td>\n",
              "      <td>4</td>\n",
              "      <td>3</td>\n",
              "      <td>531</td>\n",
              "      <td>0.0</td>\n",
              "      <td>520</td>\n",
              "      <td>0</td>\n",
              "      <td>132.75</td>\n",
              "      <td>258.218738</td>\n",
              "      <td>0</td>\n",
              "      <td>...</td>\n",
              "      <td>32</td>\n",
              "      <td>5437.0</td>\n",
              "      <td>0.0</td>\n",
              "      <td>5437.0</td>\n",
              "      <td>5437.0</td>\n",
              "      <td>110000000.0</td>\n",
              "      <td>0.0</td>\n",
              "      <td>110000000.0</td>\n",
              "      <td>110000000.0</td>\n",
              "      <td>1</td>\n",
              "    </tr>\n",
              "    <tr>\n",
              "      <th>2</th>\n",
              "      <td>109988359</td>\n",
              "      <td>4</td>\n",
              "      <td>3</td>\n",
              "      <td>535</td>\n",
              "      <td>0.0</td>\n",
              "      <td>520</td>\n",
              "      <td>0</td>\n",
              "      <td>133.75</td>\n",
              "      <td>257.597069</td>\n",
              "      <td>0</td>\n",
              "      <td>...</td>\n",
              "      <td>32</td>\n",
              "      <td>5505.0</td>\n",
              "      <td>0.0</td>\n",
              "      <td>5505.0</td>\n",
              "      <td>5505.0</td>\n",
              "      <td>110000000.0</td>\n",
              "      <td>0.0</td>\n",
              "      <td>110000000.0</td>\n",
              "      <td>110000000.0</td>\n",
              "      <td>1</td>\n",
              "    </tr>\n",
              "    <tr>\n",
              "      <th>3</th>\n",
              "      <td>109982960</td>\n",
              "      <td>4</td>\n",
              "      <td>3</td>\n",
              "      <td>530</td>\n",
              "      <td>0.0</td>\n",
              "      <td>520</td>\n",
              "      <td>0</td>\n",
              "      <td>132.50</td>\n",
              "      <td>258.376341</td>\n",
              "      <td>0</td>\n",
              "      <td>...</td>\n",
              "      <td>32</td>\n",
              "      <td>5303.0</td>\n",
              "      <td>0.0</td>\n",
              "      <td>5303.0</td>\n",
              "      <td>5303.0</td>\n",
              "      <td>110000000.0</td>\n",
              "      <td>0.0</td>\n",
              "      <td>110000000.0</td>\n",
              "      <td>110000000.0</td>\n",
              "      <td>1</td>\n",
              "    </tr>\n",
              "    <tr>\n",
              "      <th>4</th>\n",
              "      <td>109977744</td>\n",
              "      <td>4</td>\n",
              "      <td>3</td>\n",
              "      <td>530</td>\n",
              "      <td>0.0</td>\n",
              "      <td>520</td>\n",
              "      <td>0</td>\n",
              "      <td>132.50</td>\n",
              "      <td>258.376341</td>\n",
              "      <td>0</td>\n",
              "      <td>...</td>\n",
              "      <td>32</td>\n",
              "      <td>5356.0</td>\n",
              "      <td>0.0</td>\n",
              "      <td>5356.0</td>\n",
              "      <td>5356.0</td>\n",
              "      <td>110000000.0</td>\n",
              "      <td>0.0</td>\n",
              "      <td>110000000.0</td>\n",
              "      <td>110000000.0</td>\n",
              "      <td>1</td>\n",
              "    </tr>\n",
              "  </tbody>\n",
              "</table>\n",
              "<p>5 rows × 77 columns</p>\n",
              "</div>\n",
              "      <button class=\"colab-df-convert\" onclick=\"convertToInteractive('df-09c3a63f-169a-465d-a975-f2ea7af507d2')\"\n",
              "              title=\"Convert this dataframe to an interactive table.\"\n",
              "              style=\"display:none;\">\n",
              "        \n",
              "  <svg xmlns=\"http://www.w3.org/2000/svg\" height=\"24px\"viewBox=\"0 0 24 24\"\n",
              "       width=\"24px\">\n",
              "    <path d=\"M0 0h24v24H0V0z\" fill=\"none\"/>\n",
              "    <path d=\"M18.56 5.44l.94 2.06.94-2.06 2.06-.94-2.06-.94-.94-2.06-.94 2.06-2.06.94zm-11 1L8.5 8.5l.94-2.06 2.06-.94-2.06-.94L8.5 2.5l-.94 2.06-2.06.94zm10 10l.94 2.06.94-2.06 2.06-.94-2.06-.94-.94-2.06-.94 2.06-2.06.94z\"/><path d=\"M17.41 7.96l-1.37-1.37c-.4-.4-.92-.59-1.43-.59-.52 0-1.04.2-1.43.59L10.3 9.45l-7.72 7.72c-.78.78-.78 2.05 0 2.83L4 21.41c.39.39.9.59 1.41.59.51 0 1.02-.2 1.41-.59l7.78-7.78 2.81-2.81c.8-.78.8-2.07 0-2.86zM5.41 20L4 18.59l7.72-7.72 1.47 1.35L5.41 20z\"/>\n",
              "  </svg>\n",
              "      </button>\n",
              "      \n",
              "  <style>\n",
              "    .colab-df-container {\n",
              "      display:flex;\n",
              "      flex-wrap:wrap;\n",
              "      gap: 12px;\n",
              "    }\n",
              "\n",
              "    .colab-df-convert {\n",
              "      background-color: #E8F0FE;\n",
              "      border: none;\n",
              "      border-radius: 50%;\n",
              "      cursor: pointer;\n",
              "      display: none;\n",
              "      fill: #1967D2;\n",
              "      height: 32px;\n",
              "      padding: 0 0 0 0;\n",
              "      width: 32px;\n",
              "    }\n",
              "\n",
              "    .colab-df-convert:hover {\n",
              "      background-color: #E2EBFA;\n",
              "      box-shadow: 0px 1px 2px rgba(60, 64, 67, 0.3), 0px 1px 3px 1px rgba(60, 64, 67, 0.15);\n",
              "      fill: #174EA6;\n",
              "    }\n",
              "\n",
              "    [theme=dark] .colab-df-convert {\n",
              "      background-color: #3B4455;\n",
              "      fill: #D2E3FC;\n",
              "    }\n",
              "\n",
              "    [theme=dark] .colab-df-convert:hover {\n",
              "      background-color: #434B5C;\n",
              "      box-shadow: 0px 1px 3px 1px rgba(0, 0, 0, 0.15);\n",
              "      filter: drop-shadow(0px 1px 2px rgba(0, 0, 0, 0.3));\n",
              "      fill: #FFFFFF;\n",
              "    }\n",
              "  </style>\n",
              "\n",
              "      <script>\n",
              "        const buttonEl =\n",
              "          document.querySelector('#df-09c3a63f-169a-465d-a975-f2ea7af507d2 button.colab-df-convert');\n",
              "        buttonEl.style.display =\n",
              "          google.colab.kernel.accessAllowed ? 'block' : 'none';\n",
              "\n",
              "        async function convertToInteractive(key) {\n",
              "          const element = document.querySelector('#df-09c3a63f-169a-465d-a975-f2ea7af507d2');\n",
              "          const dataTable =\n",
              "            await google.colab.kernel.invokeFunction('convertToInteractive',\n",
              "                                                     [key], {});\n",
              "          if (!dataTable) return;\n",
              "\n",
              "          const docLinkHtml = 'Like what you see? Visit the ' +\n",
              "            '<a target=\"_blank\" href=https://colab.research.google.com/notebooks/data_table.ipynb>data table notebook</a>'\n",
              "            + ' to learn more about interactive tables.';\n",
              "          element.innerHTML = '';\n",
              "          dataTable['output_type'] = 'display_data';\n",
              "          await google.colab.output.renderOutput(dataTable, element);\n",
              "          const docLink = document.createElement('div');\n",
              "          docLink.innerHTML = docLinkHtml;\n",
              "          element.appendChild(docLink);\n",
              "        }\n",
              "      </script>\n",
              "    </div>\n",
              "  </div>\n",
              "  "
            ]
          },
          "metadata": {},
          "execution_count": 131
        }
      ]
    },
    {
      "cell_type": "code",
      "source": [
        "data['Label'].value_counts() "
      ],
      "metadata": {
        "colab": {
          "base_uri": "https://localhost:8080/"
        },
        "id": "wvUKIl7IMus8",
        "outputId": "308c407c-77d5-4f1c-bda6-821216e13a28"
      },
      "execution_count": 132,
      "outputs": [
        {
          "output_type": "execute_result",
          "data": {
            "text/plain": [
              "0    22987\n",
              "1     5498\n",
              "Name: Label, dtype: int64"
            ]
          },
          "metadata": {},
          "execution_count": 132
        }
      ]
    },
    {
      "cell_type": "code",
      "source": [
        "# save benign and attack dataframe separately\n",
        "benign = data[data['Label']== 0]\n",
        "attack= data[data['Label']!= 0]"
      ],
      "metadata": {
        "id": "_M_8uWHIMuqv"
      },
      "execution_count": 133,
      "outputs": []
    },
    {
      "cell_type": "code",
      "source": [
        "# convert benign and attack dataframes to numpy arrays after dropping the label\n",
        "x_benign = benign.drop('Label',axis=1).values \n",
        "y_benign = benign['Label'].values\n",
        "\n",
        "x_attack = attack.drop('Label',axis=1).values \n",
        "y_attack = attack['Label'].values"
      ],
      "metadata": {
        "id": "S9ph3SuoObYs"
      },
      "execution_count": 134,
      "outputs": []
    },
    {
      "cell_type": "code",
      "source": [
        "# split the data into test and train\n",
        "x_benign_train, x_benign_test = train_test_split(x_benign, test_size=0.25, random_state=40)"
      ],
      "metadata": {
        "id": "dB_a5ujiObWW"
      },
      "execution_count": 135,
      "outputs": []
    },
    {
      "cell_type": "code",
      "source": [
        "# scale the train and test data using Standard Scalar\n",
        "scaler = StandardScaler()\n",
        "x_benign_train_scaled= scaler.fit_transform(x_benign_train) \n",
        "x_benign_test_scaled= scaler.transform(x_benign_test) \n",
        "x_attack_scaled= scaler.transform(x_attack) "
      ],
      "metadata": {
        "id": "pDX09qj4ObUG"
      },
      "execution_count": 136,
      "outputs": []
    },
    {
      "cell_type": "code",
      "source": [
        "# set hyperparameter\n",
        "batch_size = 32\n",
        "original_dim = 76\n",
        "latent_dim = 10\n",
        "neuron_num = 50\n",
        "epochs = 100\n",
        "epsilon_std = 1.0"
      ],
      "metadata": {
        "id": "SWF5kSt3ObSC"
      },
      "execution_count": 137,
      "outputs": []
    },
    {
      "cell_type": "code",
      "source": [
        "# define encoder with 2 hidden layers\n",
        "x = keras.layers.Input(shape=(original_dim,))\n",
        "h1 = keras.layers.Dense(neuron_num, activation='relu')(x)\n",
        "h2 = keras.layers.Dense(neuron_num, activation='relu')(h1)\n",
        "z_mean = keras.layers.Dense(latent_dim)(h2) \n",
        "z_log_var = keras.layers.Dense(latent_dim)(h2) "
      ],
      "metadata": {
        "id": "Ih4z0-2OObP4"
      },
      "execution_count": 138,
      "outputs": []
    },
    {
      "cell_type": "code",
      "source": [
        "# define sampling layer\n",
        "K = keras.backend\n",
        "\n",
        "def sampling(args):\n",
        "    z_mean, z_log_var = args\n",
        "    epsilon = K.random_normal(shape=(K.shape(z_mean)[0], latent_dim), mean=0, stddev=epsilon_std)\n",
        "    return z_mean + K.exp(z_log_var / 2) * epsilon\n",
        "\n",
        "#Latent layer\n",
        "z = keras.layers.Lambda(sampling, output_shape=(latent_dim,))([z_mean, z_log_var])\n",
        "\n",
        "encoder = keras.Model(x,[z_mean,z_log_var,z],name='encoder')\n",
        "encoder.summary()"
      ],
      "metadata": {
        "colab": {
          "base_uri": "https://localhost:8080/"
        },
        "id": "T1GHdvpaObNu",
        "outputId": "69ee75d6-1bce-4b03-e4a4-a001f4cdfd83"
      },
      "execution_count": 139,
      "outputs": [
        {
          "output_type": "stream",
          "name": "stdout",
          "text": [
            "Model: \"encoder\"\n",
            "__________________________________________________________________________________________________\n",
            "Layer (type)                    Output Shape         Param #     Connected to                     \n",
            "==================================================================================================\n",
            "input_6 (InputLayer)            [(None, 76)]         0                                            \n",
            "__________________________________________________________________________________________________\n",
            "dense_35 (Dense)                (None, 50)           3850        input_6[0][0]                    \n",
            "__________________________________________________________________________________________________\n",
            "dense_36 (Dense)                (None, 50)           2550        dense_35[0][0]                   \n",
            "__________________________________________________________________________________________________\n",
            "dense_37 (Dense)                (None, 10)           510         dense_36[0][0]                   \n",
            "__________________________________________________________________________________________________\n",
            "dense_38 (Dense)                (None, 10)           510         dense_36[0][0]                   \n",
            "__________________________________________________________________________________________________\n",
            "lambda_5 (Lambda)               (None, 10)           0           dense_37[0][0]                   \n",
            "                                                                 dense_38[0][0]                   \n",
            "==================================================================================================\n",
            "Total params: 7,420\n",
            "Trainable params: 7,420\n",
            "Non-trainable params: 0\n",
            "__________________________________________________________________________________________________\n"
          ]
        }
      ]
    },
    {
      "cell_type": "code",
      "source": [
        "# define decoder with 2 hidden layers\n",
        "latent_inputs = keras.Input(shape=(latent_dim,), name='z_sampling')\n",
        "decoder_h1 = keras.layers.Dense(neuron_num, activation='relu')(latent_inputs)\n",
        "decoder_h2 = keras.layers.Dense(neuron_num, activation='relu')(decoder_h1) \n",
        "\n",
        "decoder_mean = keras.layers.Dense(original_dim)\n",
        "x_decoded_mean = decoder_mean(decoder_h2)\n",
        "\n",
        "decoder = keras.Model(latent_inputs,x_decoded_mean,name='decoder')\n",
        "decoder.summary()"
      ],
      "metadata": {
        "id": "MftxxMkwObLU",
        "colab": {
          "base_uri": "https://localhost:8080/"
        },
        "outputId": "0c6fa040-9b65-4662-a374-08f334febca0"
      },
      "execution_count": 140,
      "outputs": [
        {
          "output_type": "stream",
          "name": "stdout",
          "text": [
            "Model: \"decoder\"\n",
            "_________________________________________________________________\n",
            "Layer (type)                 Output Shape              Param #   \n",
            "=================================================================\n",
            "z_sampling (InputLayer)      [(None, 10)]              0         \n",
            "_________________________________________________________________\n",
            "dense_39 (Dense)             (None, 50)                550       \n",
            "_________________________________________________________________\n",
            "dense_40 (Dense)             (None, 50)                2550      \n",
            "_________________________________________________________________\n",
            "dense_41 (Dense)             (None, 76)                3876      \n",
            "=================================================================\n",
            "Total params: 6,976\n",
            "Trainable params: 6,976\n",
            "Non-trainable params: 0\n",
            "_________________________________________________________________\n"
          ]
        }
      ]
    },
    {
      "cell_type": "code",
      "source": [
        "# instantiate VAE model\n",
        "output = decoder(encoder(x)[2])\n",
        "vae = keras.models.Model(x, output, name = 'VAE')"
      ],
      "metadata": {
        "id": "GQxPwEZ2ObJO"
      },
      "execution_count": 141,
      "outputs": []
    },
    {
      "cell_type": "code",
      "source": [
        "# define VAE loss function\n",
        "def vae_loss(feature, reconstructed):\n",
        "    reconstruction_loss = keras.losses.binary_crossentropy(feature, reconstructed)\n",
        "    kl_loss = - 0.5 * K.mean(1 + z_log_var - K.square(z_mean) - K.exp(z_log_var), axis=-1)\n",
        "    return reconstruction_loss + kl_loss"
      ],
      "metadata": {
        "id": "wsP2DVCgObHG"
      },
      "execution_count": 142,
      "outputs": []
    },
    {
      "cell_type": "code",
      "source": [
        "# compile the model\n",
        "vae.compile(optimizer=keras.optimizers.Adam(learning_rate=0.001),loss=vae_loss)\n",
        "vae.summary()"
      ],
      "metadata": {
        "id": "OW3RMAMEObE_",
        "colab": {
          "base_uri": "https://localhost:8080/"
        },
        "outputId": "947b6181-387b-4e45-975f-f97d23d14ace"
      },
      "execution_count": 143,
      "outputs": [
        {
          "output_type": "stream",
          "name": "stdout",
          "text": [
            "Model: \"VAE\"\n",
            "_________________________________________________________________\n",
            "Layer (type)                 Output Shape              Param #   \n",
            "=================================================================\n",
            "input_6 (InputLayer)         [(None, 76)]              0         \n",
            "_________________________________________________________________\n",
            "encoder (Model)              [(None, 10), (None, 10),  7420      \n",
            "_________________________________________________________________\n",
            "decoder (Model)              (None, 76)                6976      \n",
            "=================================================================\n",
            "Total params: 14,396\n",
            "Trainable params: 14,396\n",
            "Non-trainable params: 0\n",
            "_________________________________________________________________\n"
          ]
        }
      ]
    },
    {
      "cell_type": "code",
      "source": [
        "# train VAE model\n",
        "history= vae.fit(x_benign_train_scaled ,x_benign_train_scaled, verbose = 1, batch_size=batch_size, epochs=epochs,shuffle=True,validation_split=0.2)"
      ],
      "metadata": {
        "colab": {
          "base_uri": "https://localhost:8080/"
        },
        "id": "vYKVR6ZLObCx",
        "outputId": "6198c30f-5a72-4252-f99e-99b7ec1697c9"
      },
      "execution_count": 144,
      "outputs": [
        {
          "output_type": "stream",
          "name": "stdout",
          "text": [
            "Train on 13792 samples, validate on 3448 samples\n",
            "Epoch 1/100\n",
            "13792/13792 [==============================] - 2s 165us/sample - loss: 52.6889 - val_loss: -1.1988\n",
            "Epoch 2/100\n",
            "13792/13792 [==============================] - 1s 96us/sample - loss: -1.4537 - val_loss: -1.6861\n",
            "Epoch 3/100\n",
            "13792/13792 [==============================] - 1s 100us/sample - loss: -1.7401 - val_loss: -1.8524\n",
            "Epoch 4/100\n",
            "13792/13792 [==============================] - 1s 98us/sample - loss: -1.8009 - val_loss: -1.8734\n",
            "Epoch 5/100\n",
            "13792/13792 [==============================] - 1s 96us/sample - loss: -1.7775 - val_loss: -1.5235\n",
            "Epoch 6/100\n",
            "13792/13792 [==============================] - 1s 101us/sample - loss: -1.8655 - val_loss: -2.0412\n",
            "Epoch 7/100\n",
            "13792/13792 [==============================] - 1s 101us/sample - loss: -1.9627 - val_loss: -1.9682\n",
            "Epoch 8/100\n",
            "13792/13792 [==============================] - 1s 98us/sample - loss: -1.9997 - val_loss: -2.1330\n",
            "Epoch 9/100\n",
            "13792/13792 [==============================] - 1s 104us/sample - loss: -2.0931 - val_loss: -2.1958\n",
            "Epoch 10/100\n",
            "13792/13792 [==============================] - 1s 94us/sample - loss: -2.2215 - val_loss: -2.2564\n",
            "Epoch 11/100\n",
            "13792/13792 [==============================] - 1s 102us/sample - loss: -2.1268 - val_loss: -2.2117\n",
            "Epoch 12/100\n",
            "13792/13792 [==============================] - 1s 98us/sample - loss: -1.9459 - val_loss: -2.0079\n",
            "Epoch 13/100\n",
            "13792/13792 [==============================] - 1s 104us/sample - loss: -2.0388 - val_loss: -1.6775\n",
            "Epoch 14/100\n",
            "13792/13792 [==============================] - 1s 100us/sample - loss: -1.9164 - val_loss: -2.1499\n",
            "Epoch 15/100\n",
            "13792/13792 [==============================] - 1s 106us/sample - loss: -2.0527 - val_loss: -2.1438\n",
            "Epoch 16/100\n",
            "13792/13792 [==============================] - 2s 137us/sample - loss: -2.1348 - val_loss: -2.1832\n",
            "Epoch 17/100\n",
            "13792/13792 [==============================] - 2s 158us/sample - loss: -1.7198 - val_loss: -2.1128\n",
            "Epoch 18/100\n",
            "13792/13792 [==============================] - 1s 95us/sample - loss: -2.1828 - val_loss: -2.2706\n",
            "Epoch 19/100\n",
            "13792/13792 [==============================] - 1s 94us/sample - loss: -2.0371 - val_loss: -2.1847\n",
            "Epoch 20/100\n",
            "13792/13792 [==============================] - 1s 98us/sample - loss: -2.0341 - val_loss: -2.1821\n",
            "Epoch 21/100\n",
            "13792/13792 [==============================] - 1s 97us/sample - loss: -2.2647 - val_loss: -2.2951\n",
            "Epoch 22/100\n",
            "13792/13792 [==============================] - 1s 97us/sample - loss: -2.2991 - val_loss: -2.3299\n",
            "Epoch 23/100\n",
            "13792/13792 [==============================] - 3s 195us/sample - loss: -2.3321 - val_loss: -2.3731\n",
            "Epoch 24/100\n",
            "13792/13792 [==============================] - 3s 193us/sample - loss: -2.1373 - val_loss: -1.7976\n",
            "Epoch 25/100\n",
            "13792/13792 [==============================] - 1s 98us/sample - loss: -2.1469 - val_loss: -2.3127\n",
            "Epoch 26/100\n",
            "13792/13792 [==============================] - 1s 101us/sample - loss: -2.2719 - val_loss: -2.3144\n",
            "Epoch 27/100\n",
            "13792/13792 [==============================] - 1s 96us/sample - loss: -2.2759 - val_loss: -2.1815\n",
            "Epoch 28/100\n",
            "13792/13792 [==============================] - 1s 103us/sample - loss: -1.9705 - val_loss: -1.7677\n",
            "Epoch 29/100\n",
            "13792/13792 [==============================] - 1s 96us/sample - loss: -1.9983 - val_loss: -2.1576\n",
            "Epoch 30/100\n",
            "13792/13792 [==============================] - 1s 102us/sample - loss: -2.1728 - val_loss: -2.3245\n",
            "Epoch 31/100\n",
            "13792/13792 [==============================] - 1s 98us/sample - loss: -2.3187 - val_loss: -2.3564\n",
            "Epoch 32/100\n",
            "13792/13792 [==============================] - 1s 94us/sample - loss: -2.3416 - val_loss: -2.4328\n",
            "Epoch 33/100\n",
            "13792/13792 [==============================] - 1s 101us/sample - loss: -2.2593 - val_loss: -2.3485\n",
            "Epoch 34/100\n",
            "13792/13792 [==============================] - 1s 97us/sample - loss: -1.7649 - val_loss: -1.9544\n",
            "Epoch 35/100\n",
            "13792/13792 [==============================] - 1s 102us/sample - loss: -2.1119 - val_loss: -2.3248\n",
            "Epoch 36/100\n",
            "13792/13792 [==============================] - 1s 98us/sample - loss: -2.2716 - val_loss: -2.3179\n",
            "Epoch 37/100\n",
            "13792/13792 [==============================] - 1s 102us/sample - loss: -2.3561 - val_loss: -2.4185\n",
            "Epoch 38/100\n",
            "13792/13792 [==============================] - 1s 98us/sample - loss: -2.4265 - val_loss: -2.4763\n",
            "Epoch 39/100\n",
            "13792/13792 [==============================] - 1s 97us/sample - loss: -2.4185 - val_loss: -2.4546\n",
            "Epoch 40/100\n",
            "13792/13792 [==============================] - 1s 101us/sample - loss: -2.4598 - val_loss: -2.5362\n",
            "Epoch 41/100\n",
            "13792/13792 [==============================] - 1s 100us/sample - loss: -2.4763 - val_loss: -2.4923\n",
            "Epoch 42/100\n",
            "13792/13792 [==============================] - 1s 101us/sample - loss: -2.4039 - val_loss: -2.3691\n",
            "Epoch 43/100\n",
            "13792/13792 [==============================] - 1s 101us/sample - loss: -2.3837 - val_loss: -2.4617\n",
            "Epoch 44/100\n",
            "13792/13792 [==============================] - 1s 99us/sample - loss: -2.2636 - val_loss: -2.4785\n",
            "Epoch 45/100\n",
            "13792/13792 [==============================] - 1s 103us/sample - loss: -2.4098 - val_loss: -2.4865\n",
            "Epoch 46/100\n",
            "13792/13792 [==============================] - 1s 98us/sample - loss: -2.1278 - val_loss: -2.0851\n",
            "Epoch 47/100\n",
            "13792/13792 [==============================] - 1s 102us/sample - loss: -2.2730 - val_loss: -2.1441\n",
            "Epoch 48/100\n",
            "13792/13792 [==============================] - 1s 107us/sample - loss: -2.3639 - val_loss: -2.5163\n",
            "Epoch 49/100\n",
            "13792/13792 [==============================] - 1s 100us/sample - loss: -2.5043 - val_loss: -2.4629\n",
            "Epoch 50/100\n",
            "13792/13792 [==============================] - 1s 102us/sample - loss: -2.5356 - val_loss: -2.3529\n",
            "Epoch 51/100\n",
            "13792/13792 [==============================] - 1s 97us/sample - loss: -2.5163 - val_loss: -2.6077\n",
            "Epoch 52/100\n",
            "13792/13792 [==============================] - 1s 108us/sample - loss: -2.6265 - val_loss: -2.6354\n",
            "Epoch 53/100\n",
            "13792/13792 [==============================] - 1s 97us/sample - loss: -2.5621 - val_loss: -2.3615\n",
            "Epoch 54/100\n",
            "13792/13792 [==============================] - 1s 97us/sample - loss: -2.4399 - val_loss: -2.5398\n",
            "Epoch 55/100\n",
            "13792/13792 [==============================] - 1s 101us/sample - loss: -2.5697 - val_loss: -2.6434\n",
            "Epoch 56/100\n",
            "13792/13792 [==============================] - 1s 101us/sample - loss: -2.5292 - val_loss: -1.9133\n",
            "Epoch 57/100\n",
            "13792/13792 [==============================] - 1s 97us/sample - loss: -2.2966 - val_loss: -2.4869\n",
            "Epoch 58/100\n",
            "13792/13792 [==============================] - 1s 98us/sample - loss: -2.3765 - val_loss: -2.3149\n",
            "Epoch 59/100\n",
            "13792/13792 [==============================] - 1s 99us/sample - loss: -2.3979 - val_loss: -2.5420\n",
            "Epoch 60/100\n",
            "13792/13792 [==============================] - 1s 97us/sample - loss: -2.5508 - val_loss: -2.6159\n",
            "Epoch 61/100\n",
            "13792/13792 [==============================] - 1s 96us/sample - loss: -2.5788 - val_loss: -2.6422\n",
            "Epoch 62/100\n",
            "13792/13792 [==============================] - 1s 108us/sample - loss: -2.5712 - val_loss: -2.6215\n",
            "Epoch 63/100\n",
            "13792/13792 [==============================] - 1s 101us/sample - loss: -2.5818 - val_loss: -2.5916\n",
            "Epoch 64/100\n",
            "13792/13792 [==============================] - 1s 102us/sample - loss: -2.6313 - val_loss: -2.6794\n",
            "Epoch 65/100\n",
            "13792/13792 [==============================] - 1s 103us/sample - loss: -2.6193 - val_loss: -2.5847\n",
            "Epoch 66/100\n",
            "13792/13792 [==============================] - 1s 101us/sample - loss: -2.5779 - val_loss: -2.6857\n",
            "Epoch 67/100\n",
            "13792/13792 [==============================] - 1s 100us/sample - loss: -2.4859 - val_loss: -2.3851\n",
            "Epoch 68/100\n",
            "13792/13792 [==============================] - 1s 95us/sample - loss: -2.5319 - val_loss: -2.6315\n",
            "Epoch 69/100\n",
            "13792/13792 [==============================] - 1s 103us/sample - loss: -2.6333 - val_loss: -2.6509\n",
            "Epoch 70/100\n",
            "13792/13792 [==============================] - 1s 100us/sample - loss: -2.6409 - val_loss: -2.7259\n",
            "Epoch 71/100\n",
            "13792/13792 [==============================] - 1s 100us/sample - loss: -2.6364 - val_loss: -2.5804\n",
            "Epoch 72/100\n",
            "13792/13792 [==============================] - 1s 101us/sample - loss: -2.6221 - val_loss: -2.5140\n",
            "Epoch 73/100\n",
            "13792/13792 [==============================] - 1s 101us/sample - loss: -2.5935 - val_loss: -2.6135\n",
            "Epoch 74/100\n",
            "13792/13792 [==============================] - 1s 101us/sample - loss: -2.5197 - val_loss: -2.3341\n",
            "Epoch 75/100\n",
            "13792/13792 [==============================] - 1s 98us/sample - loss: -2.4019 - val_loss: -2.2369\n",
            "Epoch 76/100\n",
            "13792/13792 [==============================] - 1s 100us/sample - loss: -2.2965 - val_loss: -2.3972\n",
            "Epoch 77/100\n",
            "13792/13792 [==============================] - 1s 105us/sample - loss: -2.4399 - val_loss: -2.5651\n",
            "Epoch 78/100\n",
            "13792/13792 [==============================] - 1s 98us/sample - loss: -2.4951 - val_loss: -2.5826\n",
            "Epoch 79/100\n",
            "13792/13792 [==============================] - 1s 102us/sample - loss: -2.3422 - val_loss: -2.4860\n",
            "Epoch 80/100\n",
            "13792/13792 [==============================] - 1s 99us/sample - loss: -2.3864 - val_loss: -2.4851\n",
            "Epoch 81/100\n",
            "13792/13792 [==============================] - 1s 104us/sample - loss: -2.5253 - val_loss: -2.4860\n",
            "Epoch 82/100\n",
            "13792/13792 [==============================] - 1s 102us/sample - loss: -2.4848 - val_loss: -2.3266\n",
            "Epoch 83/100\n",
            "13792/13792 [==============================] - 1s 97us/sample - loss: -2.5678 - val_loss: -2.5696\n",
            "Epoch 84/100\n",
            "13792/13792 [==============================] - 1s 102us/sample - loss: -2.6406 - val_loss: -2.6922\n",
            "Epoch 85/100\n",
            "13792/13792 [==============================] - 1s 102us/sample - loss: -2.5067 - val_loss: -2.6098\n",
            "Epoch 86/100\n",
            "13792/13792 [==============================] - 1s 103us/sample - loss: -2.6039 - val_loss: -2.6285\n",
            "Epoch 87/100\n",
            "13792/13792 [==============================] - 1s 99us/sample - loss: -2.4122 - val_loss: -2.5264\n",
            "Epoch 88/100\n",
            "13792/13792 [==============================] - 1s 98us/sample - loss: -2.6170 - val_loss: -2.7043\n",
            "Epoch 89/100\n",
            "13792/13792 [==============================] - 1s 101us/sample - loss: -2.4964 - val_loss: -2.5884\n",
            "Epoch 90/100\n",
            "13792/13792 [==============================] - 1s 108us/sample - loss: -2.5623 - val_loss: -2.5163\n",
            "Epoch 91/100\n",
            "13792/13792 [==============================] - 1s 102us/sample - loss: -2.4962 - val_loss: -2.6240\n",
            "Epoch 92/100\n",
            "13792/13792 [==============================] - 1s 107us/sample - loss: -2.6184 - val_loss: -2.6922\n",
            "Epoch 93/100\n",
            "13792/13792 [==============================] - 1s 108us/sample - loss: -2.4603 - val_loss: -2.4863\n",
            "Epoch 94/100\n",
            "13792/13792 [==============================] - 1s 104us/sample - loss: -2.5293 - val_loss: -2.5140\n",
            "Epoch 95/100\n",
            "13792/13792 [==============================] - 1s 106us/sample - loss: -2.5871 - val_loss: -2.5922\n",
            "Epoch 96/100\n",
            "13792/13792 [==============================] - 1s 104us/sample - loss: -2.5500 - val_loss: -2.5315\n",
            "Epoch 97/100\n",
            "13792/13792 [==============================] - 1s 105us/sample - loss: -2.5588 - val_loss: -2.6218\n",
            "Epoch 98/100\n",
            "13792/13792 [==============================] - 1s 106us/sample - loss: -2.4714 - val_loss: -2.6086\n",
            "Epoch 99/100\n",
            "13792/13792 [==============================] - 1s 105us/sample - loss: -2.6600 - val_loss: -2.7164\n",
            "Epoch 100/100\n",
            "13792/13792 [==============================] - 1s 108us/sample - loss: -2.6574 - val_loss: -2.6338\n"
          ]
        }
      ]
    },
    {
      "cell_type": "code",
      "source": [
        "# plot loss curve\n",
        "mpl.rcParams['font.size'] = 24\n",
        "plt.rcParams[\"figure.figsize\"] = (15,10)\n",
        "plt.plot(history.history['loss'],linewidth = 8)\n",
        "plt.plot(history.history['val_loss'],linewidth = 8)\n",
        "plt.ylabel('Reconstruction Error/loss',fontsize = 24)\n",
        "plt.xlabel('epoch',fontsize = 24)\n",
        "plt.legend(['train_data', 'val_data'], loc='best',fontsize = 20)\n",
        "plt.show()"
      ],
      "metadata": {
        "id": "qlLsZqhweAQU",
        "colab": {
          "base_uri": "https://localhost:8080/",
          "height": 634
        },
        "outputId": "1aa88583-5a00-4fbe-ac84-9c5fb1a49e50"
      },
      "execution_count": 145,
      "outputs": [
        {
          "output_type": "display_data",
          "data": {
            "text/plain": [
              "<Figure size 1080x720 with 1 Axes>"
            ],
            "image/png": "[encoded data removed]"
          },
          "metadata": {
            "needs_background": "light"
          }
        }
      ]
    },
    {
      "cell_type": "code",
      "source": [
        "# save models\n",
        "encoder.save(\"Encoder.h5\")\n",
        "decoder.save(\"Decoder.h5\")\n",
        "vae.save(\"VAE.h5\")"
      ],
      "metadata": {
        "id": "RI9NCRbSeAOh"
      },
      "execution_count": 146,
      "outputs": []
    },
    {
      "cell_type": "code",
      "source": [
        "history.params"
      ],
      "metadata": {
        "id": "WbieVE_DeAMv",
        "colab": {
          "base_uri": "https://localhost:8080/"
        },
        "outputId": "cc76c3ee-4a18-4a66-9c18-6e2aabb2db3f"
      },
      "execution_count": 147,
      "outputs": [
        {
          "output_type": "execute_result",
          "data": {
            "text/plain": [
              "{'batch_size': 32,\n",
              " 'do_validation': True,\n",
              " 'epochs': 100,\n",
              " 'metrics': ['loss', 'val_loss'],\n",
              " 'samples': 13792,\n",
              " 'steps': None,\n",
              " 'verbose': 0}"
            ]
          },
          "metadata": {},
          "execution_count": 147
        }
      ]
    },
    {
      "cell_type": "code",
      "source": [
        "# predict on test data\n",
        "pred1 = vae.predict(x_benign_train_scaled) # predictions on train normal data\n",
        "score1 = np.sqrt(metrics.mean_squared_error(pred1,x_benign_train_scaled))\n",
        "\n",
        "pred2 = vae.predict(x_benign_test_scaled) # predictions on test normal data\n",
        "score2 = np.sqrt(metrics.mean_squared_error(pred2,x_benign_test_scaled))\n",
        "\n",
        "pred3 = vae.predict(x_attack_scaled) # predictions on test fraud data\n",
        "score3 = np.sqrt(metrics.mean_squared_error(pred3,x_attack_scaled))\n",
        "\n",
        "print(f\"Normal_training_data Score (RMSE): {score1}\")\n",
        "print(f\"Normal_test_data_score Score (RMSE): {score2}\")\n",
        "print(f\"Fraud_test_data_score (RMSE): {score3}\")"
      ],
      "metadata": {
        "id": "HxhfhKOYeAIw",
        "colab": {
          "base_uri": "https://localhost:8080/"
        },
        "outputId": "5515f11a-f8df-45b0-8dc9-a32e343500db"
      },
      "execution_count": 148,
      "outputs": [
        {
          "output_type": "stream",
          "name": "stdout",
          "text": [
            "Normal_training_data Score (RMSE): 2.700519939623218\n",
            "Normal_test_data_score Score (RMSE): 2.707517003665148\n",
            "Fraud_test_data_score (RMSE): 5.071516922560458\n"
          ]
        }
      ]
    },
    {
      "cell_type": "code",
      "source": [
        "test_obs = x_benign_test_scaled.copy() # create a copy of normal data and save in tst_obs\n",
        "print(test_obs.shape)\n",
        "test_obs = np.append(test_obs, x_attack_scaled, axis=0) ##combine test normal and test fraud data\n",
        "print(test_obs.shape)\n",
        "print(y_benign[0:5747].shape)"
      ],
      "metadata": {
        "id": "L16V7VaJeAGx",
        "colab": {
          "base_uri": "https://localhost:8080/"
        },
        "outputId": "cb8838a5-d789-40ed-a101-98dd5cfd525e"
      },
      "execution_count": 149,
      "outputs": [
        {
          "output_type": "stream",
          "name": "stdout",
          "text": [
            "(5747, 76)\n",
            "(11245, 76)\n",
            "(5747,)\n"
          ]
        }
      ]
    },
    {
      "cell_type": "code",
      "source": [
        "Y_obs = y_benign[0:5747].copy() # create a copy of normal labels and save in Y_obs\n",
        "Y_obs  = np.append(Y_obs, y_attack, axis=0)\n",
        "print(Y_obs.shape)"
      ],
      "metadata": {
        "colab": {
          "base_uri": "https://localhost:8080/"
        },
        "id": "fpVr7LdyttSu",
        "outputId": "98103028-c696-4d78-fa3b-e2804698b47f"
      },
      "execution_count": 150,
      "outputs": [
        {
          "output_type": "stream",
          "name": "stdout",
          "text": [
            "(11245,)\n"
          ]
        }
      ]
    },
    {
      "cell_type": "code",
      "source": [
        "test_preds=vae.predict(test_obs)\n",
        "mse_test = np.mean(np.power(test_obs- test_preds, 2), axis=1)"
      ],
      "metadata": {
        "id": "5KXHLorzttQy"
      },
      "execution_count": 151,
      "outputs": []
    },
    {
      "cell_type": "code",
      "source": [
        "test_error_data = pd.DataFrame({'recon_error': mse_test,'Class': Y_obs})"
      ],
      "metadata": {
        "id": "5Spqb9uDttOw"
      },
      "execution_count": 152,
      "outputs": []
    },
    {
      "cell_type": "code",
      "source": [
        "group1 = test_error_data.groupby('Class')\n",
        "fig, ax = plt.subplots()\n",
        "for name, group in group1:\n",
        "    ax.plot(group.index, group.recon_error, marker='o', ms=3.5, linestyle='',label= \"attack\" if name == 1 else \"benign\")\n",
        "ax.legend()\n",
        "plt.ylabel(\"Reconstruction error\")\n",
        "plt.xlabel(\"Data point index\")\n",
        "plt.show()"
      ],
      "metadata": {
        "colab": {
          "base_uri": "https://localhost:8080/",
          "height": 634
        },
        "id": "xEeVd_l_ttMw",
        "outputId": "ae938338-44f3-4c87-9c00-cd6ab34faf05"
      },
      "execution_count": 153,
      "outputs": [
        {
          "output_type": "display_data",
          "data": {
            "text/plain": [
              "<Figure size 1080x720 with 1 Axes>"
            ],
            "image/png": "[encoded data removed]"
          },
          "metadata": {
            "needs_background": "light"
          }
        }
      ]
    },
    {
      "cell_type": "code",
      "source": [
        "# Metric analysis\n",
        "threshold=10\n",
        "\n",
        "y_pred = [1 if e > threshold else 0 for e in test_error_data.recon_error.values]\n",
        "\n",
        "cm= confusion_matrix(test_error_data.Class, y_pred)\n",
        "print(\"Confusion matrix:\")\n",
        "print(cm)\n",
        "\n",
        "tn = cm[0][0]\n",
        "fp = cm[0][1]\n",
        "fn = cm[1][0]\n",
        "tp = cm[1][1]\n",
        "\n",
        "print(\"\\nTotal number of true positives\", tp)\n",
        "print(\"Total number of false negatives\",fn)\n",
        "print(\"Total number of false positives\",fp)\n",
        "print(\"Total number of true negatives\",tn)\n",
        "\n",
        "acc=float(tp+tn)/(tp+tn+fp+fn)\n",
        "\n",
        "print('\\nClassifier Accuracy: %.2f%%' % (acc * 100))\n",
        "\n",
        "tpr = float(tp)/(tp+fn)\n",
        "\n",
        "print('True Positive Rate (TPR/Recall/Sensitivity): %.2f%%' % (tpr * 100))\n",
        "\n",
        "specificity = float (tn)/(tn+fp)\n",
        "\n",
        "print (\"True Negative Rate (TNR/Specificity/selectivity):%.2f%%\" % (specificity*100)) \n",
        "\n",
        "fpr = float(fp)/(fp+tn)\n",
        "print(\"False Positive Rate (FPR): %.2f%%\" % (fpr * 100))\n",
        "\n",
        "fnr = fn/ (fn+ tp)\n",
        "print(\"False Negative Rate (FNR): %.2f%%\" % (fnr*100))\n",
        "\n",
        "precision=float(tp)/(tp+fp)\n",
        "print(\"Precision/Positive Predictive value:%.2f%%\" %(precision*100))\n",
        "\n",
        "fscore = 2*((precision*tpr)/(precision+tpr))\n",
        "print(\"F1-Score: %.2f%%\" %(fscore*100))"
      ],
      "metadata": {
        "colab": {
          "base_uri": "https://localhost:8080/"
        },
        "id": "ob5aHt7uttKp",
        "outputId": "32f992fc-5e7d-4c6a-caed-62fa3b392b5a"
      },
      "execution_count": 154,
      "outputs": [
        {
          "output_type": "stream",
          "name": "stdout",
          "text": [
            "Confusion matrix:\n",
            "[[4352 1395]\n",
            " [1066 4432]]\n",
            "\n",
            "Total number of true positives 4432\n",
            "Total number of false negatives 1066\n",
            "Total number of false positives 1395\n",
            "Total number of true negatives 4352\n",
            "\n",
            "Classifier Accuracy: 78.11%\n",
            "True Positive Rate (TPR/Recall/Sensitivity): 80.61%\n",
            "True Negative Rate (TNR/Specificity/selectivity):75.73%\n",
            "False Positive Rate (FPR): 24.27%\n",
            "False Negative Rate (FNR): 19.39%\n",
            "Precision/Positive Predictive value:76.06%\n",
            "F1-Score: 78.27%\n"
          ]
        }
      ]
    },
    {
      "cell_type": "code",
      "source": [
        "# ROC-AUC curve\n",
        "fpr, tpr, thresholds = roc_curve(test_error_data.Class,test_error_data.recon_error)\n",
        "roc_auc = auc(fpr, tpr)\n",
        "plt.title('Receiver Operating Characteristic')\n",
        "plt.plot(fpr, tpr, label='AUC = %0.2f'% roc_auc,linewidth = 8, color='b')\n",
        "plt.legend(loc='lower right')\n",
        "plt.plot([0,1],[0,1],'r--',linewidth = 4)\n",
        "plt.xlim([-0.001, 1])\n",
        "plt.ylim([0, 1.001])\n",
        "plt.ylabel('True Positive Rate')\n",
        "plt.xlabel('False Positive Rate')\n",
        "plt.show()"
      ],
      "metadata": {
        "colab": {
          "base_uri": "https://localhost:8080/",
          "height": 661
        },
        "id": "fGLOx11BttJH",
        "outputId": "d00883ee-ba4b-4b88-82c3-dfdf0098e8da"
      },
      "execution_count": 155,
      "outputs": [
        {
          "output_type": "display_data",
          "data": {
            "text/plain": [
              "<Figure size 1080x720 with 1 Axes>"
            ],
            "image/png": "[encoded data removed]"
          },
          "metadata": {
            "needs_background": "light"
          }
        }
      ]
    }
  ]
}